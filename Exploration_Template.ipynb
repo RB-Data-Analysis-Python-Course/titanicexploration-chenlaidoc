{
 "cells": [
  {
   "cell_type": "markdown",
   "id": "5290022f-83d2-4dd8-aa3c-c481d63f268d",
   "metadata": {},
   "source": [
    "## Intro"
   ]
  },
  {
   "cell_type": "markdown",
   "id": "137cb431-9216-41d1-a1d5-acfebfedb006",
   "metadata": {},
   "source": [
    "<div class=\"alert alert-success\">\n",
    "This section is up to you and not necessary. \n",
    "\n",
    "I would recommend specifing the date you have done the exploration.\n",
    "\n",
    "in addition you can specify possible problems and doubts regarding both your conclusions and the data itself in this section or in the Coclusions section. (such as biases in data, missing values, small number of samples to support some conclusion, etc)"
   ]
  },
  {
   "cell_type": "markdown",
   "id": "1c7edb86-09cb-4807-98e5-71095e3c7de4",
   "metadata": {},
   "source": [
    "## Conclusions"
   ]
  },
  {
   "cell_type": "markdown",
   "id": "9d0e95e3-a4ac-41b7-966d-e81cbc07a4dc",
   "metadata": {},
   "source": [
    "<div class=\"alert alert-success\">\n",
    "\n",
    "**A List of all of your conclusions from the Exploration**\n",
    "    \n",
    "No need to specify the actual tests and to explain why you have concluded these things. if the reader wants to deep dive into your tests he will be able to do so further down the notebook.\n",
    "\n",
    "having said that, **ALWAYS** specify possible problems and doubts regarding both your conclusions and the data itself in this section if they were not mentioned in the Intro! (such as biases in data, missing values, small number of samples to support some conclusion, etc)\n",
    "\n",
    "</div>"
   ]
  },
  {
   "cell_type": "markdown",
   "id": "dabd1072-6460-45ff-b8b0-9f7e52b4c118",
   "metadata": {},
   "source": [
    "1. ....\n",
    "2. ....\n",
    "\n"
   ]
  },
  {
   "cell_type": "markdown",
   "id": "445bd190-2247-4d82-939f-08a82fca0cf0",
   "metadata": {},
   "source": [
    "## Hypothesis & Tests"
   ]
  },
  {
   "cell_type": "markdown",
   "id": "3fd497ed-d0ca-4f61-9821-0d27dd028619",
   "metadata": {},
   "source": [
    "<div class=\"alert alert-success\">\n",
    "\n",
    "**This section is where you list out all your assumptions and the way you have tested them.**\n",
    "\n",
    "It serves both yourself and the reader:\n",
    "1. The reader - the reader that wants to understand how you have concluded the above conclusions without deep diving into your code.\n",
    "2. Yourself - It makes it very easy to organize your thoughts and make sure you have tested everything you thought is necessary.\n",
    "\n",
    "*Keep in mind:*\n",
    "1. Understand what the data really means in \"real life\"!!\n",
    "2. Missing values!\n",
    "3. Total number of samples\n",
    "4. Distribution of features\n",
    "5. Write down all the things you have checked even if they failed - the failure itself may mean allot.\n",
    "6. Duplicates!\n",
    "\n",
    "</div>"
   ]
  },
  {
   "cell_type": "markdown",
   "id": "9a170983-12e9-42cb-b560-5c5a1f4191dc",
   "metadata": {},
   "source": [
    "1. Hypothesis 1\n",
    "    * test1 :  Pclass/Ticket/Fare/Cabin location on ship can affect escape route and survival rate\n",
    "    * test2 :  Sex can affect survival rate\n",
    "    * test3 :  Age 16-40 better survival rate\n",
    "    * test4 :  SibSp/Parch\n",
    "    * test5 :  Embarked (check with Pclass)\n",
    " \n",
    "2. predicting missing values using other parameters (with regression model)"
   ]
  },
  {
   "cell_type": "markdown",
   "id": "132ef0ab-45b8-485a-b7d6-bedf328b0483",
   "metadata": {},
   "source": [
    "## Implementation"
   ]
  },
  {
   "cell_type": "code",
   "execution_count": 4,
   "id": "96bd0461",
   "metadata": {},
   "outputs": [
    {
     "data": {
      "text/html": [
       "<div>\n",
       "<style scoped>\n",
       "    .dataframe tbody tr th:only-of-type {\n",
       "        vertical-align: middle;\n",
       "    }\n",
       "\n",
       "    .dataframe tbody tr th {\n",
       "        vertical-align: top;\n",
       "    }\n",
       "\n",
       "    .dataframe thead th {\n",
       "        text-align: right;\n",
       "    }\n",
       "</style>\n",
       "<table border=\"1\" class=\"dataframe\">\n",
       "  <thead>\n",
       "    <tr style=\"text-align: right;\">\n",
       "      <th></th>\n",
       "      <th>PassengerId</th>\n",
       "      <th>Survived</th>\n",
       "      <th>Pclass</th>\n",
       "      <th>Name</th>\n",
       "      <th>Sex</th>\n",
       "      <th>Age</th>\n",
       "      <th>SibSp</th>\n",
       "      <th>Parch</th>\n",
       "      <th>Ticket</th>\n",
       "      <th>Fare</th>\n",
       "      <th>Cabin</th>\n",
       "      <th>Embarked</th>\n",
       "    </tr>\n",
       "  </thead>\n",
       "  <tbody>\n",
       "    <tr>\n",
       "      <th>0</th>\n",
       "      <td>1</td>\n",
       "      <td>0</td>\n",
       "      <td>3</td>\n",
       "      <td>Braund, Mr. Owen Harris</td>\n",
       "      <td>male</td>\n",
       "      <td>22.0</td>\n",
       "      <td>1</td>\n",
       "      <td>0</td>\n",
       "      <td>A/5 21171</td>\n",
       "      <td>7.2500</td>\n",
       "      <td>NaN</td>\n",
       "      <td>S</td>\n",
       "    </tr>\n",
       "    <tr>\n",
       "      <th>1</th>\n",
       "      <td>2</td>\n",
       "      <td>1</td>\n",
       "      <td>1</td>\n",
       "      <td>Cumings, Mrs. John Bradley (Florence Briggs Th...</td>\n",
       "      <td>female</td>\n",
       "      <td>38.0</td>\n",
       "      <td>1</td>\n",
       "      <td>0</td>\n",
       "      <td>PC 17599</td>\n",
       "      <td>71.2833</td>\n",
       "      <td>C85</td>\n",
       "      <td>C</td>\n",
       "    </tr>\n",
       "    <tr>\n",
       "      <th>2</th>\n",
       "      <td>3</td>\n",
       "      <td>1</td>\n",
       "      <td>3</td>\n",
       "      <td>Heikkinen, Miss. Laina</td>\n",
       "      <td>female</td>\n",
       "      <td>26.0</td>\n",
       "      <td>0</td>\n",
       "      <td>0</td>\n",
       "      <td>STON/O2. 3101282</td>\n",
       "      <td>7.9250</td>\n",
       "      <td>NaN</td>\n",
       "      <td>S</td>\n",
       "    </tr>\n",
       "    <tr>\n",
       "      <th>3</th>\n",
       "      <td>4</td>\n",
       "      <td>1</td>\n",
       "      <td>1</td>\n",
       "      <td>Futrelle, Mrs. Jacques Heath (Lily May Peel)</td>\n",
       "      <td>female</td>\n",
       "      <td>35.0</td>\n",
       "      <td>1</td>\n",
       "      <td>0</td>\n",
       "      <td>113803</td>\n",
       "      <td>53.1000</td>\n",
       "      <td>C123</td>\n",
       "      <td>S</td>\n",
       "    </tr>\n",
       "    <tr>\n",
       "      <th>4</th>\n",
       "      <td>5</td>\n",
       "      <td>0</td>\n",
       "      <td>3</td>\n",
       "      <td>Allen, Mr. William Henry</td>\n",
       "      <td>male</td>\n",
       "      <td>35.0</td>\n",
       "      <td>0</td>\n",
       "      <td>0</td>\n",
       "      <td>373450</td>\n",
       "      <td>8.0500</td>\n",
       "      <td>NaN</td>\n",
       "      <td>S</td>\n",
       "    </tr>\n",
       "  </tbody>\n",
       "</table>\n",
       "</div>"
      ],
      "text/plain": [
       "   PassengerId  Survived  Pclass  \\\n",
       "0            1         0       3   \n",
       "1            2         1       1   \n",
       "2            3         1       3   \n",
       "3            4         1       1   \n",
       "4            5         0       3   \n",
       "\n",
       "                                                Name     Sex   Age  SibSp  \\\n",
       "0                            Braund, Mr. Owen Harris    male  22.0      1   \n",
       "1  Cumings, Mrs. John Bradley (Florence Briggs Th...  female  38.0      1   \n",
       "2                             Heikkinen, Miss. Laina  female  26.0      0   \n",
       "3       Futrelle, Mrs. Jacques Heath (Lily May Peel)  female  35.0      1   \n",
       "4                           Allen, Mr. William Henry    male  35.0      0   \n",
       "\n",
       "   Parch            Ticket     Fare Cabin Embarked  \n",
       "0      0         A/5 21171   7.2500   NaN        S  \n",
       "1      0          PC 17599  71.2833   C85        C  \n",
       "2      0  STON/O2. 3101282   7.9250   NaN        S  \n",
       "3      0            113803  53.1000  C123        S  \n",
       "4      0            373450   8.0500   NaN        S  "
      ]
     },
     "execution_count": 4,
     "metadata": {},
     "output_type": "execute_result"
    }
   ],
   "source": [
    "import pandas as pd\n",
    "pd.plotting.register_matplotlib_converters()\n",
    "import matplotlib.pyplot as plt\n",
    "%matplotlib inline\n",
    "import seaborn as sns\n",
    "train=pd.read_csv(\"train.csv\")\n",
    "train.head()"
   ]
  },
  {
   "cell_type": "markdown",
   "id": "d20a676b-5668-4a21-ac50-9c9dad2696ce",
   "metadata": {},
   "source": [
    "### Test1"
   ]
  },
  {
   "cell_type": "markdown",
   "id": "fd7b7b61-3fb8-4684-818e-8ecf99b89e6c",
   "metadata": {},
   "source": [
    "Description of test and the hypothesis\n",
    "\n",
    "Results and conclusions:\n",
    "> ..."
   ]
  },
  {
   "cell_type": "code",
   "execution_count": 45,
   "id": "67a01b8e-e91e-4a83-976d-069159d64674",
   "metadata": {},
   "outputs": [
    {
     "data": {
      "text/plain": [
       "([<matplotlib.patches.Wedge at 0x11681026f10>,\n",
       "  <matplotlib.patches.Wedge at 0x11681030700>],\n",
       " [Text(0.7581208955237448, 0.797027419710436, 'not survived'),\n",
       "  Text(-0.7581209701468342, -0.7970273487300314, 'survived')],\n",
       " [Text(0.4135204884674971, 0.43474222893296505, '25.8%'),\n",
       "  Text(-0.4135205291710004, -0.4347421902163807, '74.2%')])"
      ]
     },
     "execution_count": 45,
     "metadata": {},
     "output_type": "execute_result"
    },
    {
     "data": {
      "image/png": "[encoded data removed]",
      "text/plain": [
       "<Figure size 432x288 with 2 Axes>"
      ]
     },
     "metadata": {},
     "output_type": "display_data"
    }
   ],
   "source": [
    "fig, axs = plt.subplots(2)\n",
    "males=train[train['Sex']=='male'].value_counts(['Survived']).sort_index()\n",
    "females=train[train['Sex']=='female'].value_counts(['Survived']).sort_index()\n",
    "label= ['not survived','survived']\n",
    "axs[0].pie(males,labels=label, autopct='%1.1f%%')\n",
    "axs[1].pie(females,labels=label, autopct='%1.1f%%')"
   ]
  },
  {
   "cell_type": "code",
   "execution_count": 52,
   "id": "2528182c",
   "metadata": {},
   "outputs": [
    {
     "data": {
      "text/plain": [
       "<AxesSubplot:xlabel='Age', ylabel='Density'>"
      ]
     },
     "execution_count": 52,
     "metadata": {},
     "output_type": "execute_result"
    },
    {
     "data": {
      "image/png": "[encoded data removed]",
      "text/plain": [
       "<Figure size 432x288 with 1 Axes>"
      ]
     },
     "metadata": {
      "needs_background": "light"
     },
     "output_type": "display_data"
    }
   ],
   "source": [
    "sns.kdeplot(data=train,x='Age', hue='Sex')"
   ]
  },
  {
   "cell_type": "markdown",
   "id": "8d46bbdf-2a5c-49c4-aae1-98c2152de870",
   "metadata": {},
   "source": [
    "### Test2"
   ]
  },
  {
   "cell_type": "markdown",
   "id": "6bd8209b-86a2-4b1a-92b7-dc30ee43e3a9",
   "metadata": {},
   "source": [
    "Description of test and the hypothesis\n",
    "\n",
    "Results and conclusions:\n",
    "> ..."
   ]
  },
  {
   "cell_type": "code",
   "execution_count": null,
   "id": "416b924a-40b7-4e8a-b435-dd57be3d1b05",
   "metadata": {},
   "outputs": [],
   "source": []
  },
  {
   "cell_type": "markdown",
   "id": "2d219732-e87e-4b1b-a674-ff53cff1393d",
   "metadata": {},
   "source": [
    "### Test3"
   ]
  },
  {
   "cell_type": "markdown",
   "id": "daaf28c9-eb11-4715-b8eb-7b4c89fa93d9",
   "metadata": {},
   "source": [
    "Description of test and the hypothesis\n",
    "\n",
    "Results and conclusions:\n",
    "> ..."
   ]
  },
  {
   "cell_type": "code",
   "execution_count": null,
   "id": "502af2e1-0a3e-4d06-9941-a4ed584883be",
   "metadata": {},
   "outputs": [],
   "source": []
  },
  {
   "cell_type": "markdown",
   "id": "24966f51-a887-40f5-8133-f45ff2f065fb",
   "metadata": {},
   "source": [
    "### Test4"
   ]
  },
  {
   "cell_type": "markdown",
   "id": "e85dc4ff-1866-4ace-b978-67e2f7f02005",
   "metadata": {},
   "source": [
    "Description of test and the hypothesis\n",
    "\n",
    "Results and conclusions:\n",
    "> ..."
   ]
  },
  {
   "cell_type": "code",
   "execution_count": null,
   "id": "df95d214-6e66-49b7-9f72-e0111a96af4c",
   "metadata": {},
   "outputs": [],
   "source": []
  }
 ],
 "metadata": {
  "kernelspec": {
   "display_name": "Python 3 (ipykernel)",
   "language": "python",
   "name": "python3"
  },
  "language_info": {
   "codemirror_mode": {
    "name": "ipython",
    "version": 3
   },
   "file_extension": ".py",
   "mimetype": "text/x-python",
   "name": "python",
   "nbconvert_exporter": "python",
   "pygments_lexer": "ipython3",
   "version": "3.9.7"
  }
 },
 "nbformat": 4,
 "nbformat_minor": 5
}
